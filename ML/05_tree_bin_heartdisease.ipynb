{
  "nbformat": 4,
  "nbformat_minor": 0,
  "metadata": {
    "colab": {
      "provenance": []
    },
    "kernelspec": {
      "name": "python3",
      "display_name": "Python 3"
    },
    "language_info": {
      "name": "python"
    }
  },
  "cells": [
    {
      "cell_type": "markdown",
      "source": [
        "#의사결정나무 - 다중분류(multiclass classification)\n",
        "- heart disease dataset\n"
      ],
      "metadata": {
        "id": "L2GHkJR4w13K"
      }
    },
    {
      "cell_type": "code",
      "execution_count": 1,
      "metadata": {
        "id": "Asg5fq7HwdU-"
      },
      "outputs": [],
      "source": [
        "import numpy as np\n",
        "import pandas as pd\n",
        "import matplotlib.pyplot as plt\n",
        "import seaborn as sns"
      ]
    },
    {
      "cell_type": "code",
      "source": [
        " ! wget https://raw.githubusercontent.com/devdio/datasets/main/heart_disease.csv"
      ],
      "metadata": {
        "id": "C_zEVzmOxBw6",
        "colab": {
          "base_uri": "https://localhost:8080/"
        },
        "outputId": "38c76fed-7050-41ef-cebb-4142dffbecd2"
      },
      "execution_count": 2,
      "outputs": [
        {
          "output_type": "stream",
          "name": "stdout",
          "text": [
            "--2023-11-30 12:08:49--  https://raw.githubusercontent.com/devdio/datasets/main/heart_disease.csv\n",
            "Resolving raw.githubusercontent.com (raw.githubusercontent.com)... 185.199.111.133, 185.199.110.133, 185.199.108.133, ...\n",
            "Connecting to raw.githubusercontent.com (raw.githubusercontent.com)|185.199.111.133|:443... connected.\n",
            "HTTP request sent, awaiting response... 200 OK\n",
            "Length: 11328 (11K) [text/plain]\n",
            "Saving to: ‘heart_disease.csv’\n",
            "\n",
            "heart_disease.csv   100%[===================>]  11.06K  --.-KB/s    in 0.001s  \n",
            "\n",
            "2023-11-30 12:08:49 (14.2 MB/s) - ‘heart_disease.csv’ saved [11328/11328]\n",
            "\n"
          ]
        }
      ]
    },
    {
      "cell_type": "code",
      "source": [
        "heart=pd.read_csv('heart_disease.csv')"
      ],
      "metadata": {
        "id": "O2MnL3DIxHkR"
      },
      "execution_count": 3,
      "outputs": []
    },
    {
      "cell_type": "code",
      "source": [
        "heart.shape"
      ],
      "metadata": {
        "colab": {
          "base_uri": "https://localhost:8080/"
        },
        "id": "L_SRwppRxRZx",
        "outputId": "e84063c5-5eeb-41c7-c5b2-89c813f301cd"
      },
      "execution_count": 4,
      "outputs": [
        {
          "output_type": "execute_result",
          "data": {
            "text/plain": [
              "(303, 14)"
            ]
          },
          "metadata": {},
          "execution_count": 4
        }
      ]
    },
    {
      "cell_type": "code",
      "source": [
        "df=heart"
      ],
      "metadata": {
        "id": "v29H1HW7xUqw"
      },
      "execution_count": 5,
      "outputs": []
    },
    {
      "cell_type": "code",
      "source": [
        "df.head()"
      ],
      "metadata": {
        "colab": {
          "base_uri": "https://localhost:8080/",
          "height": 206
        },
        "id": "o6Bx6a9cxWHg",
        "outputId": "bf8e13c5-b00f-4fac-852e-384db0335803"
      },
      "execution_count": 6,
      "outputs": [
        {
          "output_type": "execute_result",
          "data": {
            "text/plain": [
              "   age  sex  cp  trestbps  chol  fbs  restecg  thalach  exang  oldpeak  slope  \\\n",
              "0   63    1   3       145   233    1        0      150      0      2.3      0   \n",
              "1   37    1   2       130   250    0        1      187      0      3.5      0   \n",
              "2   41    0   1       130   204    0        0      172      0      1.4      2   \n",
              "3   56    1   1       120   236    0        1      178      0      0.8      2   \n",
              "4   57    0   0       120   354    0        1      163      1      0.6      2   \n",
              "\n",
              "   ca  thal  target  \n",
              "0   0     1       1  \n",
              "1   0     2       1  \n",
              "2   0     2       1  \n",
              "3   0     2       1  \n",
              "4   0     2       1  "
            ],
            "text/html": [
              "\n",
              "  <div id=\"df-b091c4e5-725c-476e-8b3f-1e11da3ca3f2\" class=\"colab-df-container\">\n",
              "    <div>\n",
              "<style scoped>\n",
              "    .dataframe tbody tr th:only-of-type {\n",
              "        vertical-align: middle;\n",
              "    }\n",
              "\n",
              "    .dataframe tbody tr th {\n",
              "        vertical-align: top;\n",
              "    }\n",
              "\n",
              "    .dataframe thead th {\n",
              "        text-align: right;\n",
              "    }\n",
              "</style>\n",
              "<table border=\"1\" class=\"dataframe\">\n",
              "  <thead>\n",
              "    <tr style=\"text-align: right;\">\n",
              "      <th></th>\n",
              "      <th>age</th>\n",
              "      <th>sex</th>\n",
              "      <th>cp</th>\n",
              "      <th>trestbps</th>\n",
              "      <th>chol</th>\n",
              "      <th>fbs</th>\n",
              "      <th>restecg</th>\n",
              "      <th>thalach</th>\n",
              "      <th>exang</th>\n",
              "      <th>oldpeak</th>\n",
              "      <th>slope</th>\n",
              "      <th>ca</th>\n",
              "      <th>thal</th>\n",
              "      <th>target</th>\n",
              "    </tr>\n",
              "  </thead>\n",
              "  <tbody>\n",
              "    <tr>\n",
              "      <th>0</th>\n",
              "      <td>63</td>\n",
              "      <td>1</td>\n",
              "      <td>3</td>\n",
              "      <td>145</td>\n",
              "      <td>233</td>\n",
              "      <td>1</td>\n",
              "      <td>0</td>\n",
              "      <td>150</td>\n",
              "      <td>0</td>\n",
              "      <td>2.3</td>\n",
              "      <td>0</td>\n",
              "      <td>0</td>\n",
              "      <td>1</td>\n",
              "      <td>1</td>\n",
              "    </tr>\n",
              "    <tr>\n",
              "      <th>1</th>\n",
              "      <td>37</td>\n",
              "      <td>1</td>\n",
              "      <td>2</td>\n",
              "      <td>130</td>\n",
              "      <td>250</td>\n",
              "      <td>0</td>\n",
              "      <td>1</td>\n",
              "      <td>187</td>\n",
              "      <td>0</td>\n",
              "      <td>3.5</td>\n",
              "      <td>0</td>\n",
              "      <td>0</td>\n",
              "      <td>2</td>\n",
              "      <td>1</td>\n",
              "    </tr>\n",
              "    <tr>\n",
              "      <th>2</th>\n",
              "      <td>41</td>\n",
              "      <td>0</td>\n",
              "      <td>1</td>\n",
              "      <td>130</td>\n",
              "      <td>204</td>\n",
              "      <td>0</td>\n",
              "      <td>0</td>\n",
              "      <td>172</td>\n",
              "      <td>0</td>\n",
              "      <td>1.4</td>\n",
              "      <td>2</td>\n",
              "      <td>0</td>\n",
              "      <td>2</td>\n",
              "      <td>1</td>\n",
              "    </tr>\n",
              "    <tr>\n",
              "      <th>3</th>\n",
              "      <td>56</td>\n",
              "      <td>1</td>\n",
              "      <td>1</td>\n",
              "      <td>120</td>\n",
              "      <td>236</td>\n",
              "      <td>0</td>\n",
              "      <td>1</td>\n",
              "      <td>178</td>\n",
              "      <td>0</td>\n",
              "      <td>0.8</td>\n",
              "      <td>2</td>\n",
              "      <td>0</td>\n",
              "      <td>2</td>\n",
              "      <td>1</td>\n",
              "    </tr>\n",
              "    <tr>\n",
              "      <th>4</th>\n",
              "      <td>57</td>\n",
              "      <td>0</td>\n",
              "      <td>0</td>\n",
              "      <td>120</td>\n",
              "      <td>354</td>\n",
              "      <td>0</td>\n",
              "      <td>1</td>\n",
              "      <td>163</td>\n",
              "      <td>1</td>\n",
              "      <td>0.6</td>\n",
              "      <td>2</td>\n",
              "      <td>0</td>\n",
              "      <td>2</td>\n",
              "      <td>1</td>\n",
              "    </tr>\n",
              "  </tbody>\n",
              "</table>\n",
              "</div>\n",
              "    <div class=\"colab-df-buttons\">\n",
              "\n",
              "  <div class=\"colab-df-container\">\n",
              "    <button class=\"colab-df-convert\" onclick=\"convertToInteractive('df-b091c4e5-725c-476e-8b3f-1e11da3ca3f2')\"\n",
              "            title=\"Convert this dataframe to an interactive table.\"\n",
              "            style=\"display:none;\">\n",
              "\n",
              "  <svg xmlns=\"http://www.w3.org/2000/svg\" height=\"24px\" viewBox=\"0 -960 960 960\">\n",
              "    <path d=\"M120-120v-720h720v720H120Zm60-500h600v-160H180v160Zm220 220h160v-160H400v160Zm0 220h160v-160H400v160ZM180-400h160v-160H180v160Zm440 0h160v-160H620v160ZM180-180h160v-160H180v160Zm440 0h160v-160H620v160Z\"/>\n",
              "  </svg>\n",
              "    </button>\n",
              "\n",
              "  <style>\n",
              "    .colab-df-container {\n",
              "      display:flex;\n",
              "      gap: 12px;\n",
              "    }\n",
              "\n",
              "    .colab-df-convert {\n",
              "      background-color: #E8F0FE;\n",
              "      border: none;\n",
              "      border-radius: 50%;\n",
              "      cursor: pointer;\n",
              "      display: none;\n",
              "      fill: #1967D2;\n",
              "      height: 32px;\n",
              "      padding: 0 0 0 0;\n",
              "      width: 32px;\n",
              "    }\n",
              "\n",
              "    .colab-df-convert:hover {\n",
              "      background-color: #E2EBFA;\n",
              "      box-shadow: 0px 1px 2px rgba(60, 64, 67, 0.3), 0px 1px 3px 1px rgba(60, 64, 67, 0.15);\n",
              "      fill: #174EA6;\n",
              "    }\n",
              "\n",
              "    .colab-df-buttons div {\n",
              "      margin-bottom: 4px;\n",
              "    }\n",
              "\n",
              "    [theme=dark] .colab-df-convert {\n",
              "      background-color: #3B4455;\n",
              "      fill: #D2E3FC;\n",
              "    }\n",
              "\n",
              "    [theme=dark] .colab-df-convert:hover {\n",
              "      background-color: #434B5C;\n",
              "      box-shadow: 0px 1px 3px 1px rgba(0, 0, 0, 0.15);\n",
              "      filter: drop-shadow(0px 1px 2px rgba(0, 0, 0, 0.3));\n",
              "      fill: #FFFFFF;\n",
              "    }\n",
              "  </style>\n",
              "\n",
              "    <script>\n",
              "      const buttonEl =\n",
              "        document.querySelector('#df-b091c4e5-725c-476e-8b3f-1e11da3ca3f2 button.colab-df-convert');\n",
              "      buttonEl.style.display =\n",
              "        google.colab.kernel.accessAllowed ? 'block' : 'none';\n",
              "\n",
              "      async function convertToInteractive(key) {\n",
              "        const element = document.querySelector('#df-b091c4e5-725c-476e-8b3f-1e11da3ca3f2');\n",
              "        const dataTable =\n",
              "          await google.colab.kernel.invokeFunction('convertToInteractive',\n",
              "                                                    [key], {});\n",
              "        if (!dataTable) return;\n",
              "\n",
              "        const docLinkHtml = 'Like what you see? Visit the ' +\n",
              "          '<a target=\"_blank\" href=https://colab.research.google.com/notebooks/data_table.ipynb>data table notebook</a>'\n",
              "          + ' to learn more about interactive tables.';\n",
              "        element.innerHTML = '';\n",
              "        dataTable['output_type'] = 'display_data';\n",
              "        await google.colab.output.renderOutput(dataTable, element);\n",
              "        const docLink = document.createElement('div');\n",
              "        docLink.innerHTML = docLinkHtml;\n",
              "        element.appendChild(docLink);\n",
              "      }\n",
              "    </script>\n",
              "  </div>\n",
              "\n",
              "\n",
              "<div id=\"df-5f1f841e-3920-49de-92d1-eca53e3f582d\">\n",
              "  <button class=\"colab-df-quickchart\" onclick=\"quickchart('df-5f1f841e-3920-49de-92d1-eca53e3f582d')\"\n",
              "            title=\"Suggest charts\"\n",
              "            style=\"display:none;\">\n",
              "\n",
              "<svg xmlns=\"http://www.w3.org/2000/svg\" height=\"24px\"viewBox=\"0 0 24 24\"\n",
              "     width=\"24px\">\n",
              "    <g>\n",
              "        <path d=\"M19 3H5c-1.1 0-2 .9-2 2v14c0 1.1.9 2 2 2h14c1.1 0 2-.9 2-2V5c0-1.1-.9-2-2-2zM9 17H7v-7h2v7zm4 0h-2V7h2v10zm4 0h-2v-4h2v4z\"/>\n",
              "    </g>\n",
              "</svg>\n",
              "  </button>\n",
              "\n",
              "<style>\n",
              "  .colab-df-quickchart {\n",
              "      --bg-color: #E8F0FE;\n",
              "      --fill-color: #1967D2;\n",
              "      --hover-bg-color: #E2EBFA;\n",
              "      --hover-fill-color: #174EA6;\n",
              "      --disabled-fill-color: #AAA;\n",
              "      --disabled-bg-color: #DDD;\n",
              "  }\n",
              "\n",
              "  [theme=dark] .colab-df-quickchart {\n",
              "      --bg-color: #3B4455;\n",
              "      --fill-color: #D2E3FC;\n",
              "      --hover-bg-color: #434B5C;\n",
              "      --hover-fill-color: #FFFFFF;\n",
              "      --disabled-bg-color: #3B4455;\n",
              "      --disabled-fill-color: #666;\n",
              "  }\n",
              "\n",
              "  .colab-df-quickchart {\n",
              "    background-color: var(--bg-color);\n",
              "    border: none;\n",
              "    border-radius: 50%;\n",
              "    cursor: pointer;\n",
              "    display: none;\n",
              "    fill: var(--fill-color);\n",
              "    height: 32px;\n",
              "    padding: 0;\n",
              "    width: 32px;\n",
              "  }\n",
              "\n",
              "  .colab-df-quickchart:hover {\n",
              "    background-color: var(--hover-bg-color);\n",
              "    box-shadow: 0 1px 2px rgba(60, 64, 67, 0.3), 0 1px 3px 1px rgba(60, 64, 67, 0.15);\n",
              "    fill: var(--button-hover-fill-color);\n",
              "  }\n",
              "\n",
              "  .colab-df-quickchart-complete:disabled,\n",
              "  .colab-df-quickchart-complete:disabled:hover {\n",
              "    background-color: var(--disabled-bg-color);\n",
              "    fill: var(--disabled-fill-color);\n",
              "    box-shadow: none;\n",
              "  }\n",
              "\n",
              "  .colab-df-spinner {\n",
              "    border: 2px solid var(--fill-color);\n",
              "    border-color: transparent;\n",
              "    border-bottom-color: var(--fill-color);\n",
              "    animation:\n",
              "      spin 1s steps(1) infinite;\n",
              "  }\n",
              "\n",
              "  @keyframes spin {\n",
              "    0% {\n",
              "      border-color: transparent;\n",
              "      border-bottom-color: var(--fill-color);\n",
              "      border-left-color: var(--fill-color);\n",
              "    }\n",
              "    20% {\n",
              "      border-color: transparent;\n",
              "      border-left-color: var(--fill-color);\n",
              "      border-top-color: var(--fill-color);\n",
              "    }\n",
              "    30% {\n",
              "      border-color: transparent;\n",
              "      border-left-color: var(--fill-color);\n",
              "      border-top-color: var(--fill-color);\n",
              "      border-right-color: var(--fill-color);\n",
              "    }\n",
              "    40% {\n",
              "      border-color: transparent;\n",
              "      border-right-color: var(--fill-color);\n",
              "      border-top-color: var(--fill-color);\n",
              "    }\n",
              "    60% {\n",
              "      border-color: transparent;\n",
              "      border-right-color: var(--fill-color);\n",
              "    }\n",
              "    80% {\n",
              "      border-color: transparent;\n",
              "      border-right-color: var(--fill-color);\n",
              "      border-bottom-color: var(--fill-color);\n",
              "    }\n",
              "    90% {\n",
              "      border-color: transparent;\n",
              "      border-bottom-color: var(--fill-color);\n",
              "    }\n",
              "  }\n",
              "</style>\n",
              "\n",
              "  <script>\n",
              "    async function quickchart(key) {\n",
              "      const quickchartButtonEl =\n",
              "        document.querySelector('#' + key + ' button');\n",
              "      quickchartButtonEl.disabled = true;  // To prevent multiple clicks.\n",
              "      quickchartButtonEl.classList.add('colab-df-spinner');\n",
              "      try {\n",
              "        const charts = await google.colab.kernel.invokeFunction(\n",
              "            'suggestCharts', [key], {});\n",
              "      } catch (error) {\n",
              "        console.error('Error during call to suggestCharts:', error);\n",
              "      }\n",
              "      quickchartButtonEl.classList.remove('colab-df-spinner');\n",
              "      quickchartButtonEl.classList.add('colab-df-quickchart-complete');\n",
              "    }\n",
              "    (() => {\n",
              "      let quickchartButtonEl =\n",
              "        document.querySelector('#df-5f1f841e-3920-49de-92d1-eca53e3f582d button');\n",
              "      quickchartButtonEl.style.display =\n",
              "        google.colab.kernel.accessAllowed ? 'block' : 'none';\n",
              "    })();\n",
              "  </script>\n",
              "</div>\n",
              "    </div>\n",
              "  </div>\n"
            ]
          },
          "metadata": {},
          "execution_count": 6
        }
      ]
    },
    {
      "cell_type": "markdown",
      "source": [
        "##2. 데이터 탐색"
      ],
      "metadata": {
        "id": "b2htXLLIyB54"
      }
    },
    {
      "cell_type": "code",
      "source": [
        "df.info()"
      ],
      "metadata": {
        "colab": {
          "base_uri": "https://localhost:8080/"
        },
        "id": "zOG02pD8xZuA",
        "outputId": "b609b073-6b20-459c-cb37-865b675cb341"
      },
      "execution_count": 7,
      "outputs": [
        {
          "output_type": "stream",
          "name": "stdout",
          "text": [
            "<class 'pandas.core.frame.DataFrame'>\n",
            "RangeIndex: 303 entries, 0 to 302\n",
            "Data columns (total 14 columns):\n",
            " #   Column    Non-Null Count  Dtype  \n",
            "---  ------    --------------  -----  \n",
            " 0   age       303 non-null    int64  \n",
            " 1   sex       303 non-null    int64  \n",
            " 2   cp        303 non-null    int64  \n",
            " 3   trestbps  303 non-null    int64  \n",
            " 4   chol      303 non-null    int64  \n",
            " 5   fbs       303 non-null    int64  \n",
            " 6   restecg   303 non-null    int64  \n",
            " 7   thalach   303 non-null    int64  \n",
            " 8   exang     303 non-null    int64  \n",
            " 9   oldpeak   303 non-null    float64\n",
            " 10  slope     303 non-null    int64  \n",
            " 11  ca        303 non-null    int64  \n",
            " 12  thal      303 non-null    int64  \n",
            " 13  target    303 non-null    int64  \n",
            "dtypes: float64(1), int64(13)\n",
            "memory usage: 33.3 KB\n"
          ]
        }
      ]
    },
    {
      "cell_type": "code",
      "source": [
        "df.describe().T"
      ],
      "metadata": {
        "colab": {
          "base_uri": "https://localhost:8080/",
          "height": 488
        },
        "id": "HtYe6kfTyGQR",
        "outputId": "25e5d552-dc93-488f-92ec-8a3d4b0d34a8"
      },
      "execution_count": 8,
      "outputs": [
        {
          "output_type": "execute_result",
          "data": {
            "text/plain": [
              "          count        mean        std    min    25%    50%    75%    max\n",
              "age       303.0   54.366337   9.082101   29.0   47.5   55.0   61.0   77.0\n",
              "sex       303.0    0.683168   0.466011    0.0    0.0    1.0    1.0    1.0\n",
              "cp        303.0    0.966997   1.032052    0.0    0.0    1.0    2.0    3.0\n",
              "trestbps  303.0  131.623762  17.538143   94.0  120.0  130.0  140.0  200.0\n",
              "chol      303.0  246.264026  51.830751  126.0  211.0  240.0  274.5  564.0\n",
              "fbs       303.0    0.148515   0.356198    0.0    0.0    0.0    0.0    1.0\n",
              "restecg   303.0    0.528053   0.525860    0.0    0.0    1.0    1.0    2.0\n",
              "thalach   303.0  149.646865  22.905161   71.0  133.5  153.0  166.0  202.0\n",
              "exang     303.0    0.326733   0.469794    0.0    0.0    0.0    1.0    1.0\n",
              "oldpeak   303.0    1.039604   1.161075    0.0    0.0    0.8    1.6    6.2\n",
              "slope     303.0    1.399340   0.616226    0.0    1.0    1.0    2.0    2.0\n",
              "ca        303.0    0.729373   1.022606    0.0    0.0    0.0    1.0    4.0\n",
              "thal      303.0    2.313531   0.612277    0.0    2.0    2.0    3.0    3.0\n",
              "target    303.0    0.544554   0.498835    0.0    0.0    1.0    1.0    1.0"
            ],
            "text/html": [
              "\n",
              "  <div id=\"df-8934975d-3e3b-44e2-af98-b6431c0fd4e0\" class=\"colab-df-container\">\n",
              "    <div>\n",
              "<style scoped>\n",
              "    .dataframe tbody tr th:only-of-type {\n",
              "        vertical-align: middle;\n",
              "    }\n",
              "\n",
              "    .dataframe tbody tr th {\n",
              "        vertical-align: top;\n",
              "    }\n",
              "\n",
              "    .dataframe thead th {\n",
              "        text-align: right;\n",
              "    }\n",
              "</style>\n",
              "<table border=\"1\" class=\"dataframe\">\n",
              "  <thead>\n",
              "    <tr style=\"text-align: right;\">\n",
              "      <th></th>\n",
              "      <th>count</th>\n",
              "      <th>mean</th>\n",
              "      <th>std</th>\n",
              "      <th>min</th>\n",
              "      <th>25%</th>\n",
              "      <th>50%</th>\n",
              "      <th>75%</th>\n",
              "      <th>max</th>\n",
              "    </tr>\n",
              "  </thead>\n",
              "  <tbody>\n",
              "    <tr>\n",
              "      <th>age</th>\n",
              "      <td>303.0</td>\n",
              "      <td>54.366337</td>\n",
              "      <td>9.082101</td>\n",
              "      <td>29.0</td>\n",
              "      <td>47.5</td>\n",
              "      <td>55.0</td>\n",
              "      <td>61.0</td>\n",
              "      <td>77.0</td>\n",
              "    </tr>\n",
              "    <tr>\n",
              "      <th>sex</th>\n",
              "      <td>303.0</td>\n",
              "      <td>0.683168</td>\n",
              "      <td>0.466011</td>\n",
              "      <td>0.0</td>\n",
              "      <td>0.0</td>\n",
              "      <td>1.0</td>\n",
              "      <td>1.0</td>\n",
              "      <td>1.0</td>\n",
              "    </tr>\n",
              "    <tr>\n",
              "      <th>cp</th>\n",
              "      <td>303.0</td>\n",
              "      <td>0.966997</td>\n",
              "      <td>1.032052</td>\n",
              "      <td>0.0</td>\n",
              "      <td>0.0</td>\n",
              "      <td>1.0</td>\n",
              "      <td>2.0</td>\n",
              "      <td>3.0</td>\n",
              "    </tr>\n",
              "    <tr>\n",
              "      <th>trestbps</th>\n",
              "      <td>303.0</td>\n",
              "      <td>131.623762</td>\n",
              "      <td>17.538143</td>\n",
              "      <td>94.0</td>\n",
              "      <td>120.0</td>\n",
              "      <td>130.0</td>\n",
              "      <td>140.0</td>\n",
              "      <td>200.0</td>\n",
              "    </tr>\n",
              "    <tr>\n",
              "      <th>chol</th>\n",
              "      <td>303.0</td>\n",
              "      <td>246.264026</td>\n",
              "      <td>51.830751</td>\n",
              "      <td>126.0</td>\n",
              "      <td>211.0</td>\n",
              "      <td>240.0</td>\n",
              "      <td>274.5</td>\n",
              "      <td>564.0</td>\n",
              "    </tr>\n",
              "    <tr>\n",
              "      <th>fbs</th>\n",
              "      <td>303.0</td>\n",
              "      <td>0.148515</td>\n",
              "      <td>0.356198</td>\n",
              "      <td>0.0</td>\n",
              "      <td>0.0</td>\n",
              "      <td>0.0</td>\n",
              "      <td>0.0</td>\n",
              "      <td>1.0</td>\n",
              "    </tr>\n",
              "    <tr>\n",
              "      <th>restecg</th>\n",
              "      <td>303.0</td>\n",
              "      <td>0.528053</td>\n",
              "      <td>0.525860</td>\n",
              "      <td>0.0</td>\n",
              "      <td>0.0</td>\n",
              "      <td>1.0</td>\n",
              "      <td>1.0</td>\n",
              "      <td>2.0</td>\n",
              "    </tr>\n",
              "    <tr>\n",
              "      <th>thalach</th>\n",
              "      <td>303.0</td>\n",
              "      <td>149.646865</td>\n",
              "      <td>22.905161</td>\n",
              "      <td>71.0</td>\n",
              "      <td>133.5</td>\n",
              "      <td>153.0</td>\n",
              "      <td>166.0</td>\n",
              "      <td>202.0</td>\n",
              "    </tr>\n",
              "    <tr>\n",
              "      <th>exang</th>\n",
              "      <td>303.0</td>\n",
              "      <td>0.326733</td>\n",
              "      <td>0.469794</td>\n",
              "      <td>0.0</td>\n",
              "      <td>0.0</td>\n",
              "      <td>0.0</td>\n",
              "      <td>1.0</td>\n",
              "      <td>1.0</td>\n",
              "    </tr>\n",
              "    <tr>\n",
              "      <th>oldpeak</th>\n",
              "      <td>303.0</td>\n",
              "      <td>1.039604</td>\n",
              "      <td>1.161075</td>\n",
              "      <td>0.0</td>\n",
              "      <td>0.0</td>\n",
              "      <td>0.8</td>\n",
              "      <td>1.6</td>\n",
              "      <td>6.2</td>\n",
              "    </tr>\n",
              "    <tr>\n",
              "      <th>slope</th>\n",
              "      <td>303.0</td>\n",
              "      <td>1.399340</td>\n",
              "      <td>0.616226</td>\n",
              "      <td>0.0</td>\n",
              "      <td>1.0</td>\n",
              "      <td>1.0</td>\n",
              "      <td>2.0</td>\n",
              "      <td>2.0</td>\n",
              "    </tr>\n",
              "    <tr>\n",
              "      <th>ca</th>\n",
              "      <td>303.0</td>\n",
              "      <td>0.729373</td>\n",
              "      <td>1.022606</td>\n",
              "      <td>0.0</td>\n",
              "      <td>0.0</td>\n",
              "      <td>0.0</td>\n",
              "      <td>1.0</td>\n",
              "      <td>4.0</td>\n",
              "    </tr>\n",
              "    <tr>\n",
              "      <th>thal</th>\n",
              "      <td>303.0</td>\n",
              "      <td>2.313531</td>\n",
              "      <td>0.612277</td>\n",
              "      <td>0.0</td>\n",
              "      <td>2.0</td>\n",
              "      <td>2.0</td>\n",
              "      <td>3.0</td>\n",
              "      <td>3.0</td>\n",
              "    </tr>\n",
              "    <tr>\n",
              "      <th>target</th>\n",
              "      <td>303.0</td>\n",
              "      <td>0.544554</td>\n",
              "      <td>0.498835</td>\n",
              "      <td>0.0</td>\n",
              "      <td>0.0</td>\n",
              "      <td>1.0</td>\n",
              "      <td>1.0</td>\n",
              "      <td>1.0</td>\n",
              "    </tr>\n",
              "  </tbody>\n",
              "</table>\n",
              "</div>\n",
              "    <div class=\"colab-df-buttons\">\n",
              "\n",
              "  <div class=\"colab-df-container\">\n",
              "    <button class=\"colab-df-convert\" onclick=\"convertToInteractive('df-8934975d-3e3b-44e2-af98-b6431c0fd4e0')\"\n",
              "            title=\"Convert this dataframe to an interactive table.\"\n",
              "            style=\"display:none;\">\n",
              "\n",
              "  <svg xmlns=\"http://www.w3.org/2000/svg\" height=\"24px\" viewBox=\"0 -960 960 960\">\n",
              "    <path d=\"M120-120v-720h720v720H120Zm60-500h600v-160H180v160Zm220 220h160v-160H400v160Zm0 220h160v-160H400v160ZM180-400h160v-160H180v160Zm440 0h160v-160H620v160ZM180-180h160v-160H180v160Zm440 0h160v-160H620v160Z\"/>\n",
              "  </svg>\n",
              "    </button>\n",
              "\n",
              "  <style>\n",
              "    .colab-df-container {\n",
              "      display:flex;\n",
              "      gap: 12px;\n",
              "    }\n",
              "\n",
              "    .colab-df-convert {\n",
              "      background-color: #E8F0FE;\n",
              "      border: none;\n",
              "      border-radius: 50%;\n",
              "      cursor: pointer;\n",
              "      display: none;\n",
              "      fill: #1967D2;\n",
              "      height: 32px;\n",
              "      padding: 0 0 0 0;\n",
              "      width: 32px;\n",
              "    }\n",
              "\n",
              "    .colab-df-convert:hover {\n",
              "      background-color: #E2EBFA;\n",
              "      box-shadow: 0px 1px 2px rgba(60, 64, 67, 0.3), 0px 1px 3px 1px rgba(60, 64, 67, 0.15);\n",
              "      fill: #174EA6;\n",
              "    }\n",
              "\n",
              "    .colab-df-buttons div {\n",
              "      margin-bottom: 4px;\n",
              "    }\n",
              "\n",
              "    [theme=dark] .colab-df-convert {\n",
              "      background-color: #3B4455;\n",
              "      fill: #D2E3FC;\n",
              "    }\n",
              "\n",
              "    [theme=dark] .colab-df-convert:hover {\n",
              "      background-color: #434B5C;\n",
              "      box-shadow: 0px 1px 3px 1px rgba(0, 0, 0, 0.15);\n",
              "      filter: drop-shadow(0px 1px 2px rgba(0, 0, 0, 0.3));\n",
              "      fill: #FFFFFF;\n",
              "    }\n",
              "  </style>\n",
              "\n",
              "    <script>\n",
              "      const buttonEl =\n",
              "        document.querySelector('#df-8934975d-3e3b-44e2-af98-b6431c0fd4e0 button.colab-df-convert');\n",
              "      buttonEl.style.display =\n",
              "        google.colab.kernel.accessAllowed ? 'block' : 'none';\n",
              "\n",
              "      async function convertToInteractive(key) {\n",
              "        const element = document.querySelector('#df-8934975d-3e3b-44e2-af98-b6431c0fd4e0');\n",
              "        const dataTable =\n",
              "          await google.colab.kernel.invokeFunction('convertToInteractive',\n",
              "                                                    [key], {});\n",
              "        if (!dataTable) return;\n",
              "\n",
              "        const docLinkHtml = 'Like what you see? Visit the ' +\n",
              "          '<a target=\"_blank\" href=https://colab.research.google.com/notebooks/data_table.ipynb>data table notebook</a>'\n",
              "          + ' to learn more about interactive tables.';\n",
              "        element.innerHTML = '';\n",
              "        dataTable['output_type'] = 'display_data';\n",
              "        await google.colab.output.renderOutput(dataTable, element);\n",
              "        const docLink = document.createElement('div');\n",
              "        docLink.innerHTML = docLinkHtml;\n",
              "        element.appendChild(docLink);\n",
              "      }\n",
              "    </script>\n",
              "  </div>\n",
              "\n",
              "\n",
              "<div id=\"df-f060e503-9a8a-4551-bebf-ec4e83095429\">\n",
              "  <button class=\"colab-df-quickchart\" onclick=\"quickchart('df-f060e503-9a8a-4551-bebf-ec4e83095429')\"\n",
              "            title=\"Suggest charts\"\n",
              "            style=\"display:none;\">\n",
              "\n",
              "<svg xmlns=\"http://www.w3.org/2000/svg\" height=\"24px\"viewBox=\"0 0 24 24\"\n",
              "     width=\"24px\">\n",
              "    <g>\n",
              "        <path d=\"M19 3H5c-1.1 0-2 .9-2 2v14c0 1.1.9 2 2 2h14c1.1 0 2-.9 2-2V5c0-1.1-.9-2-2-2zM9 17H7v-7h2v7zm4 0h-2V7h2v10zm4 0h-2v-4h2v4z\"/>\n",
              "    </g>\n",
              "</svg>\n",
              "  </button>\n",
              "\n",
              "<style>\n",
              "  .colab-df-quickchart {\n",
              "      --bg-color: #E8F0FE;\n",
              "      --fill-color: #1967D2;\n",
              "      --hover-bg-color: #E2EBFA;\n",
              "      --hover-fill-color: #174EA6;\n",
              "      --disabled-fill-color: #AAA;\n",
              "      --disabled-bg-color: #DDD;\n",
              "  }\n",
              "\n",
              "  [theme=dark] .colab-df-quickchart {\n",
              "      --bg-color: #3B4455;\n",
              "      --fill-color: #D2E3FC;\n",
              "      --hover-bg-color: #434B5C;\n",
              "      --hover-fill-color: #FFFFFF;\n",
              "      --disabled-bg-color: #3B4455;\n",
              "      --disabled-fill-color: #666;\n",
              "  }\n",
              "\n",
              "  .colab-df-quickchart {\n",
              "    background-color: var(--bg-color);\n",
              "    border: none;\n",
              "    border-radius: 50%;\n",
              "    cursor: pointer;\n",
              "    display: none;\n",
              "    fill: var(--fill-color);\n",
              "    height: 32px;\n",
              "    padding: 0;\n",
              "    width: 32px;\n",
              "  }\n",
              "\n",
              "  .colab-df-quickchart:hover {\n",
              "    background-color: var(--hover-bg-color);\n",
              "    box-shadow: 0 1px 2px rgba(60, 64, 67, 0.3), 0 1px 3px 1px rgba(60, 64, 67, 0.15);\n",
              "    fill: var(--button-hover-fill-color);\n",
              "  }\n",
              "\n",
              "  .colab-df-quickchart-complete:disabled,\n",
              "  .colab-df-quickchart-complete:disabled:hover {\n",
              "    background-color: var(--disabled-bg-color);\n",
              "    fill: var(--disabled-fill-color);\n",
              "    box-shadow: none;\n",
              "  }\n",
              "\n",
              "  .colab-df-spinner {\n",
              "    border: 2px solid var(--fill-color);\n",
              "    border-color: transparent;\n",
              "    border-bottom-color: var(--fill-color);\n",
              "    animation:\n",
              "      spin 1s steps(1) infinite;\n",
              "  }\n",
              "\n",
              "  @keyframes spin {\n",
              "    0% {\n",
              "      border-color: transparent;\n",
              "      border-bottom-color: var(--fill-color);\n",
              "      border-left-color: var(--fill-color);\n",
              "    }\n",
              "    20% {\n",
              "      border-color: transparent;\n",
              "      border-left-color: var(--fill-color);\n",
              "      border-top-color: var(--fill-color);\n",
              "    }\n",
              "    30% {\n",
              "      border-color: transparent;\n",
              "      border-left-color: var(--fill-color);\n",
              "      border-top-color: var(--fill-color);\n",
              "      border-right-color: var(--fill-color);\n",
              "    }\n",
              "    40% {\n",
              "      border-color: transparent;\n",
              "      border-right-color: var(--fill-color);\n",
              "      border-top-color: var(--fill-color);\n",
              "    }\n",
              "    60% {\n",
              "      border-color: transparent;\n",
              "      border-right-color: var(--fill-color);\n",
              "    }\n",
              "    80% {\n",
              "      border-color: transparent;\n",
              "      border-right-color: var(--fill-color);\n",
              "      border-bottom-color: var(--fill-color);\n",
              "    }\n",
              "    90% {\n",
              "      border-color: transparent;\n",
              "      border-bottom-color: var(--fill-color);\n",
              "    }\n",
              "  }\n",
              "</style>\n",
              "\n",
              "  <script>\n",
              "    async function quickchart(key) {\n",
              "      const quickchartButtonEl =\n",
              "        document.querySelector('#' + key + ' button');\n",
              "      quickchartButtonEl.disabled = true;  // To prevent multiple clicks.\n",
              "      quickchartButtonEl.classList.add('colab-df-spinner');\n",
              "      try {\n",
              "        const charts = await google.colab.kernel.invokeFunction(\n",
              "            'suggestCharts', [key], {});\n",
              "      } catch (error) {\n",
              "        console.error('Error during call to suggestCharts:', error);\n",
              "      }\n",
              "      quickchartButtonEl.classList.remove('colab-df-spinner');\n",
              "      quickchartButtonEl.classList.add('colab-df-quickchart-complete');\n",
              "    }\n",
              "    (() => {\n",
              "      let quickchartButtonEl =\n",
              "        document.querySelector('#df-f060e503-9a8a-4551-bebf-ec4e83095429 button');\n",
              "      quickchartButtonEl.style.display =\n",
              "        google.colab.kernel.accessAllowed ? 'block' : 'none';\n",
              "    })();\n",
              "  </script>\n",
              "</div>\n",
              "    </div>\n",
              "  </div>\n"
            ]
          },
          "metadata": {},
          "execution_count": 8
        }
      ]
    },
    {
      "cell_type": "code",
      "source": [
        "X= df.drop(\"target\",axis=1)\n",
        "Y= df['target']"
      ],
      "metadata": {
        "id": "f0zTahrmyi5R"
      },
      "execution_count": 9,
      "outputs": []
    },
    {
      "cell_type": "code",
      "source": [
        "df['target'].value_counts()"
      ],
      "metadata": {
        "colab": {
          "base_uri": "https://localhost:8080/"
        },
        "id": "g766BWj5yq6Z",
        "outputId": "c74d6532-95b9-4e2e-cdfa-f5c01de7dbd9"
      },
      "execution_count": 10,
      "outputs": [
        {
          "output_type": "execute_result",
          "data": {
            "text/plain": [
              "1    165\n",
              "0    138\n",
              "Name: target, dtype: int64"
            ]
          },
          "metadata": {},
          "execution_count": 10
        }
      ]
    },
    {
      "cell_type": "code",
      "source": [
        "#테스트 데이터 분리\n",
        "from sklearn.model_selection import train_test_split\n",
        "\n",
        "X_train,X_test,Y_train,Y_test=train_test_split(X,Y, test_size=0.2, stratify=Y,random_state=0)"
      ],
      "metadata": {
        "id": "VRvnE-k8ytiY"
      },
      "execution_count": 11,
      "outputs": []
    },
    {
      "cell_type": "code",
      "source": [
        "X_train.shape,X_test.shape,Y_train.shape,Y_test.shape"
      ],
      "metadata": {
        "colab": {
          "base_uri": "https://localhost:8080/"
        },
        "id": "bbXv9eE2yzpY",
        "outputId": "a3428f71-3cdf-40d1-f44d-93e04967d285"
      },
      "execution_count": 12,
      "outputs": [
        {
          "output_type": "execute_result",
          "data": {
            "text/plain": [
              "((242, 13), (61, 13), (242,), (61,))"
            ]
          },
          "metadata": {},
          "execution_count": 12
        }
      ]
    },
    {
      "cell_type": "code",
      "source": [
        "from sklearn.preprocessing import StandardScaler\n",
        "\n",
        "ss=StandardScaler()\n",
        "X_train_s=ss.fit_transform(X_train)\n",
        "X_train_s"
      ],
      "metadata": {
        "colab": {
          "base_uri": "https://localhost:8080/"
        },
        "id": "77WFXljRy00I",
        "outputId": "eb5b2199-1236-4260-9110-c80144a77ed0"
      },
      "execution_count": 13,
      "outputs": [
        {
          "output_type": "execute_result",
          "data": {
            "text/plain": [
              "array([[ 0.1762246 ,  0.63794729, -0.95894245, ..., -2.22991675,\n",
              "        -0.71743331,  1.09984435],\n",
              "       [ 0.39834103,  0.63794729, -0.95894245, ..., -0.61905151,\n",
              "         2.17621437,  1.09984435],\n",
              "       [-0.49012468, -1.56752763,  0.96690048, ..., -0.61905151,\n",
              "        -0.71743331, -0.5035432 ],\n",
              "       ...,\n",
              "       [ 1.17574852, -1.56752763, -0.95894245, ..., -0.61905151,\n",
              "         2.17621437,  1.09984435],\n",
              "       [-0.15695004,  0.63794729, -0.95894245, ..., -0.61905151,\n",
              "         1.21166515,  1.09984435],\n",
              "       [ 0.95363209, -1.56752763,  0.96690048, ...,  0.99181372,\n",
              "        -0.71743331, -0.5035432 ]])"
            ]
          },
          "metadata": {},
          "execution_count": 13
        }
      ]
    },
    {
      "cell_type": "code",
      "source": [
        "type(X_train_s)"
      ],
      "metadata": {
        "colab": {
          "base_uri": "https://localhost:8080/"
        },
        "id": "_uZSHvMCzKjB",
        "outputId": "b9a99899-8048-4110-e330-a0e3d3379186"
      },
      "execution_count": 14,
      "outputs": [
        {
          "output_type": "execute_result",
          "data": {
            "text/plain": [
              "numpy.ndarray"
            ]
          },
          "metadata": {},
          "execution_count": 14
        }
      ]
    },
    {
      "cell_type": "code",
      "source": [
        "type(Y_train)"
      ],
      "metadata": {
        "colab": {
          "base_uri": "https://localhost:8080/"
        },
        "id": "cr8RI5b2zQGY",
        "outputId": "01eec0ff-5996-4475-d5bc-bb1faf2df92e"
      },
      "execution_count": 15,
      "outputs": [
        {
          "output_type": "execute_result",
          "data": {
            "text/plain": [
              "pandas.core.series.Series"
            ]
          },
          "metadata": {},
          "execution_count": 15
        }
      ]
    },
    {
      "cell_type": "code",
      "source": [
        "Y_train_s=np.array(Y_train)\n",
        "Y_train_s\n",
        "type(Y_train_s)"
      ],
      "metadata": {
        "colab": {
          "base_uri": "https://localhost:8080/"
        },
        "id": "GyicJDyNzb2A",
        "outputId": "a2bf4d73-ae8a-44b5-b8ac-b50461af4547"
      },
      "execution_count": 16,
      "outputs": [
        {
          "output_type": "execute_result",
          "data": {
            "text/plain": [
              "numpy.ndarray"
            ]
          },
          "metadata": {},
          "execution_count": 16
        }
      ]
    },
    {
      "cell_type": "code",
      "source": [
        "Y_train_s"
      ],
      "metadata": {
        "colab": {
          "base_uri": "https://localhost:8080/"
        },
        "id": "4GpgXzt90zYh",
        "outputId": "77bf83ab-12f8-4db6-a49d-45f82faec207"
      },
      "execution_count": 17,
      "outputs": [
        {
          "output_type": "execute_result",
          "data": {
            "text/plain": [
              "array([0, 0, 1, 0, 0, 1, 1, 1, 0, 0, 0, 1, 1, 0, 1, 1, 1, 1, 0, 0, 1, 0,\n",
              "       0, 1, 0, 1, 1, 1, 0, 1, 1, 0, 0, 0, 0, 1, 1, 0, 0, 1, 1, 1, 1, 1,\n",
              "       0, 1, 0, 1, 1, 0, 1, 0, 1, 1, 1, 0, 0, 1, 0, 0, 1, 0, 0, 1, 1, 0,\n",
              "       1, 1, 1, 1, 1, 0, 1, 0, 0, 0, 1, 1, 0, 0, 0, 1, 0, 1, 0, 1, 0, 1,\n",
              "       1, 1, 1, 0, 1, 0, 0, 1, 1, 1, 0, 0, 1, 0, 1, 1, 0, 0, 1, 1, 1, 1,\n",
              "       0, 0, 0, 1, 1, 1, 0, 1, 1, 1, 0, 1, 1, 0, 1, 0, 1, 1, 1, 1, 0, 0,\n",
              "       0, 1, 0, 0, 1, 0, 0, 1, 1, 1, 0, 0, 0, 0, 0, 1, 1, 1, 1, 0, 1, 1,\n",
              "       1, 0, 1, 1, 1, 1, 0, 0, 1, 0, 0, 0, 1, 1, 0, 1, 1, 1, 0, 1, 0, 1,\n",
              "       1, 1, 0, 0, 0, 1, 0, 1, 0, 1, 1, 1, 0, 0, 1, 0, 1, 0, 1, 0, 0, 0,\n",
              "       1, 0, 1, 0, 0, 1, 1, 0, 1, 1, 1, 0, 0, 0, 1, 1, 0, 1, 1, 0, 1, 0,\n",
              "       0, 1, 1, 0, 1, 1, 1, 0, 0, 1, 0, 0, 0, 1, 1, 1, 0, 1, 1, 0, 0, 1])"
            ]
          },
          "metadata": {},
          "execution_count": 17
        }
      ]
    },
    {
      "cell_type": "code",
      "source": [
        "from sklearn.tree import DecisionTreeClassifier\n",
        "\n",
        "clf=DecisionTreeClassifier()\n",
        "clf.fit(X_train_s,Y_train_s)"
      ],
      "metadata": {
        "colab": {
          "base_uri": "https://localhost:8080/",
          "height": 74
        },
        "id": "xttJBnd20VqJ",
        "outputId": "4cb3c0df-4faa-44c8-b9c7-dac8a3c36ab7"
      },
      "execution_count": 18,
      "outputs": [
        {
          "output_type": "execute_result",
          "data": {
            "text/plain": [
              "DecisionTreeClassifier()"
            ],
            "text/html": [
              "<style>#sk-container-id-1 {color: black;background-color: white;}#sk-container-id-1 pre{padding: 0;}#sk-container-id-1 div.sk-toggleable {background-color: white;}#sk-container-id-1 label.sk-toggleable__label {cursor: pointer;display: block;width: 100%;margin-bottom: 0;padding: 0.3em;box-sizing: border-box;text-align: center;}#sk-container-id-1 label.sk-toggleable__label-arrow:before {content: \"▸\";float: left;margin-right: 0.25em;color: #696969;}#sk-container-id-1 label.sk-toggleable__label-arrow:hover:before {color: black;}#sk-container-id-1 div.sk-estimator:hover label.sk-toggleable__label-arrow:before {color: black;}#sk-container-id-1 div.sk-toggleable__content {max-height: 0;max-width: 0;overflow: hidden;text-align: left;background-color: #f0f8ff;}#sk-container-id-1 div.sk-toggleable__content pre {margin: 0.2em;color: black;border-radius: 0.25em;background-color: #f0f8ff;}#sk-container-id-1 input.sk-toggleable__control:checked~div.sk-toggleable__content {max-height: 200px;max-width: 100%;overflow: auto;}#sk-container-id-1 input.sk-toggleable__control:checked~label.sk-toggleable__label-arrow:before {content: \"▾\";}#sk-container-id-1 div.sk-estimator input.sk-toggleable__control:checked~label.sk-toggleable__label {background-color: #d4ebff;}#sk-container-id-1 div.sk-label input.sk-toggleable__control:checked~label.sk-toggleable__label {background-color: #d4ebff;}#sk-container-id-1 input.sk-hidden--visually {border: 0;clip: rect(1px 1px 1px 1px);clip: rect(1px, 1px, 1px, 1px);height: 1px;margin: -1px;overflow: hidden;padding: 0;position: absolute;width: 1px;}#sk-container-id-1 div.sk-estimator {font-family: monospace;background-color: #f0f8ff;border: 1px dotted black;border-radius: 0.25em;box-sizing: border-box;margin-bottom: 0.5em;}#sk-container-id-1 div.sk-estimator:hover {background-color: #d4ebff;}#sk-container-id-1 div.sk-parallel-item::after {content: \"\";width: 100%;border-bottom: 1px solid gray;flex-grow: 1;}#sk-container-id-1 div.sk-label:hover label.sk-toggleable__label {background-color: #d4ebff;}#sk-container-id-1 div.sk-serial::before {content: \"\";position: absolute;border-left: 1px solid gray;box-sizing: border-box;top: 0;bottom: 0;left: 50%;z-index: 0;}#sk-container-id-1 div.sk-serial {display: flex;flex-direction: column;align-items: center;background-color: white;padding-right: 0.2em;padding-left: 0.2em;position: relative;}#sk-container-id-1 div.sk-item {position: relative;z-index: 1;}#sk-container-id-1 div.sk-parallel {display: flex;align-items: stretch;justify-content: center;background-color: white;position: relative;}#sk-container-id-1 div.sk-item::before, #sk-container-id-1 div.sk-parallel-item::before {content: \"\";position: absolute;border-left: 1px solid gray;box-sizing: border-box;top: 0;bottom: 0;left: 50%;z-index: -1;}#sk-container-id-1 div.sk-parallel-item {display: flex;flex-direction: column;z-index: 1;position: relative;background-color: white;}#sk-container-id-1 div.sk-parallel-item:first-child::after {align-self: flex-end;width: 50%;}#sk-container-id-1 div.sk-parallel-item:last-child::after {align-self: flex-start;width: 50%;}#sk-container-id-1 div.sk-parallel-item:only-child::after {width: 0;}#sk-container-id-1 div.sk-dashed-wrapped {border: 1px dashed gray;margin: 0 0.4em 0.5em 0.4em;box-sizing: border-box;padding-bottom: 0.4em;background-color: white;}#sk-container-id-1 div.sk-label label {font-family: monospace;font-weight: bold;display: inline-block;line-height: 1.2em;}#sk-container-id-1 div.sk-label-container {text-align: center;}#sk-container-id-1 div.sk-container {/* jupyter's `normalize.less` sets `[hidden] { display: none; }` but bootstrap.min.css set `[hidden] { display: none !important; }` so we also need the `!important` here to be able to override the default hidden behavior on the sphinx rendered scikit-learn.org. See: https://github.com/scikit-learn/scikit-learn/issues/21755 */display: inline-block !important;position: relative;}#sk-container-id-1 div.sk-text-repr-fallback {display: none;}</style><div id=\"sk-container-id-1\" class=\"sk-top-container\"><div class=\"sk-text-repr-fallback\"><pre>DecisionTreeClassifier()</pre><b>In a Jupyter environment, please rerun this cell to show the HTML representation or trust the notebook. <br />On GitHub, the HTML representation is unable to render, please try loading this page with nbviewer.org.</b></div><div class=\"sk-container\" hidden><div class=\"sk-item\"><div class=\"sk-estimator sk-toggleable\"><input class=\"sk-toggleable__control sk-hidden--visually\" id=\"sk-estimator-id-1\" type=\"checkbox\" checked><label for=\"sk-estimator-id-1\" class=\"sk-toggleable__label sk-toggleable__label-arrow\">DecisionTreeClassifier</label><div class=\"sk-toggleable__content\"><pre>DecisionTreeClassifier()</pre></div></div></div></div></div>"
            ]
          },
          "metadata": {},
          "execution_count": 18
        }
      ]
    },
    {
      "cell_type": "code",
      "source": [
        "X_test_s=ss.fit_transform(X_test)\n",
        "X_test_s"
      ],
      "metadata": {
        "colab": {
          "base_uri": "https://localhost:8080/"
        },
        "id": "VdI2jjV91zyK",
        "outputId": "44addcb6-325a-47ca-e82c-8898855db88c"
      },
      "execution_count": 19,
      "outputs": [
        {
          "output_type": "execute_result",
          "data": {
            "text/plain": [
              "array([[-1.52316118,  0.86189161,  2.17130386,  0.48772384, -1.04118283,\n",
              "        -0.26490647,  1.0856203 ,  1.25834558,  1.28536917,  0.20298185,\n",
              "         0.91879598, -0.70501289,  1.2310418 ],\n",
              "       [-0.98609278, -1.1602387 ,  0.14917355, -0.07681419, -0.39025301,\n",
              "        -0.26490647, -0.92113237,  1.11928928, -0.77798661, -0.43608358,\n",
              "        -0.77958446, -0.70501289, -0.55689986],\n",
              "       [ 1.0547671 ,  0.86189161,  2.17130386, -1.20589026, -0.81800689,\n",
              "        -0.26490647, -0.92113237, -0.31762588,  1.28536917,  0.52251456,\n",
              "        -0.77958446, -0.70501289, -0.55689986],\n",
              "       [ 1.0547671 , -1.1602387 ,  1.1602387 ,  0.48772384,  1.07898859,\n",
              "        -0.26490647,  1.0856203 , -0.827499  , -0.77798661, -0.75561629,\n",
              "         0.91879598, -0.70501289,  1.2310418 ],\n",
              "       [-1.4157475 ,  0.86189161,  1.1602387 , -1.09298265, -0.09268509,\n",
              "        -0.26490647,  1.0856203 ,  1.30469769, -0.77798661, -0.91538265,\n",
              "         0.91879598, -0.70501289, -0.55689986],\n",
              "       [-1.09350646,  0.86189161,  0.14917355, -0.07681419, -0.66922293,\n",
              "        -0.26490647, -0.92113237,  1.7218666 , -0.77798661, -0.91538265,\n",
              "         0.91879598, -0.70501289, -0.55689986],\n",
              "       [-0.34161071, -1.1602387 ,  1.1602387 ,  0.48772384,  0.98599861,\n",
              "        -0.26490647, -0.92113237, -0.41033008, -0.77798661,  0.28286502,\n",
              "         0.91879598,  0.34390872, -0.55689986],\n",
              "       [ 0.51769871,  0.86189161,  0.14917355,  0.48772384, -0.63202694,\n",
              "        -0.26490647,  1.0856203 ,  0.60941616,  1.28536917, -0.91538265,\n",
              "         0.91879598, -0.70501289, -0.55689986],\n",
              "       [ 0.30287136, -1.1602387 , -0.86189161, -0.64135223,  1.84150638,\n",
              "        -0.26490647,  1.0856203 ,  0.56306406,  1.28536917, -0.43608358,\n",
              "         0.91879598, -0.70501289, -0.55689986],\n",
              "       [ 0.83993975, -1.1602387 , -0.86189161,  0.48772384,  2.58542617,\n",
              "        -0.26490647, -0.92113237,  0.28495145, -0.77798661,  0.04321549,\n",
              "        -0.77958446, -0.70501289, -0.55689986],\n",
              "       [ 1.0547671 ,  0.86189161,  1.1602387 ,  0.48772384,  1.48814448,\n",
              "        -0.26490647,  1.0856203 ,  0.33130355, -0.77798661, -0.91538265,\n",
              "         0.91879598, -0.70501289, -0.55689986],\n",
              "       [ 0.30287136, -1.1602387 , -0.86189161,  0.48772384, -0.26006704,\n",
              "        -0.26490647,  1.0856203 , -1.29102002,  1.28536917, -0.75561629,\n",
              "        -0.77958446, -0.70501289,  1.2310418 ],\n",
              "       [ 0.19545768, -1.1602387 , -0.86189161,  0.14900102,  2.8643961 ,\n",
              "        -0.26490647, -0.92113237, -0.03951327,  1.28536917,  0.60239774,\n",
              "        -0.77958446,  1.39283034,  1.2310418 ],\n",
              "       [ 0.83993975, -1.1602387 , -0.86189161,  1.61679991, -1.69211265,\n",
              "        -0.26490647, -0.92113237, -0.27127378, -0.77798661,  4.0373744 ,\n",
              "        -2.47796491,  2.44175195,  1.2310418 ],\n",
              "       [-0.12678336,  0.86189161, -0.86189161,  0.60063145, -0.53903697,\n",
              "        -0.26490647, -0.92113237, -1.84724524,  1.28536917, -0.91538265,\n",
              "         0.91879598, -0.70501289,  1.2310418 ],\n",
              "       [ 0.088044  ,  0.86189161, -0.86189161,  1.61679991,  0.63263671,\n",
              "        -0.26490647, -0.92113237, -0.27127378,  1.28536917, -0.27631722,\n",
              "        -0.77958446,  0.34390872,  1.2310418 ],\n",
              "       [-1.4157475 , -1.1602387 ,  0.14917355, -0.07681419, -0.94819285,\n",
              "        -0.26490647, -0.92113237,  0.98023297, -0.77798661,  0.20298185,\n",
              "         0.91879598, -0.70501289, -0.55689986],\n",
              "       [ 0.62511239,  0.86189161, -0.86189161, -0.07681419, -0.0368911 ,\n",
              "        -0.26490647,  1.0856203 , -0.31762588,  1.28536917,  0.20298185,\n",
              "         0.91879598,  0.34390872,  1.2310418 ],\n",
              "       [ 0.088044  , -1.1602387 ,  0.14917355,  0.20545483, -0.09268509,\n",
              "        -0.26490647, -0.92113237,  0.47035985, -0.77798661,  0.20298185,\n",
              "        -0.77958446, -0.70501289, -0.55689986],\n",
              "       [ 0.62511239,  0.86189161, -0.86189161, -0.35908321,  0.05609887,\n",
              "        -0.26490647, -0.92113237, -0.45668218,  1.28536917,  1.32134634,\n",
              "        -0.77958446,  0.34390872,  1.2310418 ],\n",
              "       [ 0.19545768,  0.86189161,  0.14917355, -0.64135223, -0.35305702,\n",
              "        -0.26490647,  1.0856203 ,  1.25834558, -0.77798661, -0.27631722,\n",
              "         0.91879598, -0.70501289, -0.55689986],\n",
              "       [ 0.62511239,  0.86189161, -0.86189161, -0.07681419, -0.91099686,\n",
              "        -0.26490647, -0.92113237, -0.8738511 ,  1.28536917,  1.00181363,\n",
              "        -0.77958446,  1.39283034,  1.2310418 ],\n",
              "       [ 0.83993975, -1.1602387 , -0.86189161,  0.37481624,  0.72562669,\n",
              "         3.77491722,  1.0856203 , -2.07900575, -0.77798661,  0.60239774,\n",
              "        -0.77958446,  2.44175195, -0.55689986],\n",
              "       [ 1.0547671 ,  0.86189161, -0.86189161,  0.76999286, -0.79940889,\n",
              "        -0.26490647, -0.92113237, -0.8738511 , -0.77798661,  0.68228092,\n",
              "        -0.77958446,  1.39283034, -2.34484153],\n",
              "       [-0.34161071,  0.86189161, -0.86189161,  0.48772384,  0.81861666,\n",
              "        -0.26490647,  1.0856203 ,  1.02658507,  1.28536917,  0.3627482 ,\n",
              "         0.91879598, -0.70501289,  1.2310418 ],\n",
              "       [ 0.73252607,  0.86189161, -0.86189161, -0.64135223,  0.09329486,\n",
              "        -0.26490647,  1.0856203 , -0.50303429,  1.28536917,  1.96041177,\n",
              "        -0.77958446,  0.34390872,  1.2310418 ],\n",
              "       [-2.70471164,  0.86189161,  0.14917355, -0.07681419, -0.94819285,\n",
              "        -0.26490647, -0.92113237,  2.37079603, -0.77798661, -0.91538265,\n",
              "         0.91879598, -0.70501289, -0.55689986],\n",
              "       [-1.4157475 , -1.1602387 ,  0.14917355, -1.48815928, -1.05978082,\n",
              "        -0.26490647,  1.0856203 ,  0.79482457, -0.77798661, -0.91538265,\n",
              "         0.91879598,  0.34390872, -0.55689986],\n",
              "       [-1.09350646,  0.86189161, -0.86189161, -1.09298265,  0.65123471,\n",
              "        -0.26490647, -0.92113237,  0.09954304, -0.77798661, -0.91538265,\n",
              "         0.91879598,  0.34390872, -0.55689986],\n",
              "       [-0.77126543,  0.86189161,  1.1602387 , -1.31879787, -0.22287105,\n",
              "        -0.26490647,  1.0856203 ,  0.05319094, -0.77798661, -0.91538265,\n",
              "         0.91879598, -0.70501289, -0.55689986],\n",
              "       [-1.09350646, -1.1602387 ,  1.1602387 , -0.75425983, -0.24146905,\n",
              "        -0.26490647,  1.0856203 , -0.08586537, -0.77798661, -0.67573311,\n",
              "        -0.77958446,  0.34390872, -0.55689986],\n",
              "       [-0.01936968,  0.86189161, -0.86189161, -0.52844462,  0.57684273,\n",
              "        -0.26490647, -0.92113237, -1.61548473,  1.28536917,  1.64087905,\n",
              "        -0.77958446,  1.39283034, -0.55689986],\n",
              "       [ 0.62511239,  0.86189161, -0.86189161,  0.48772384,  0.70702869,\n",
              "        -0.26490647, -0.92113237,  0.88752877, -0.77798661,  0.04321549,\n",
              "        -0.77958446,  1.39283034,  1.2310418 ],\n",
              "       [ 0.19545768,  0.86189161, -0.86189161,  0.03609342, -1.32015275,\n",
              "        -0.26490647, -0.92113237, -2.12535785,  1.28536917,  0.76216409,\n",
              "        -0.77958446,  0.34390872, -2.34484153],\n",
              "       [ 1.16218078, -1.1602387 ,  1.1602387 ,  1.33453089,  0.26067681,\n",
              "        -0.26490647,  1.0856203 , -0.13221747, -0.77798661, -0.27631722,\n",
              "         0.91879598, -0.70501289, -0.55689986],\n",
              "       [-1.84540221, -1.1602387 ,  1.1602387 , -0.64135223, -0.74361491,\n",
              "        -0.26490647,  1.0856203 ,  0.88752877, -0.77798661, -0.91538265,\n",
              "         0.91879598, -0.70501289, -0.55689986],\n",
              "       [ 0.51769871,  0.86189161,  1.1602387 , -0.30262941, -0.68782093,\n",
              "         3.77491722,  1.0856203 , -0.7811469 , -0.77798661,  0.84204727,\n",
              "        -0.77958446,  0.34390872, -2.34484153],\n",
              "       [ 1.37700814,  0.86189161,  1.1602387 ,  1.16516948, -0.79940889,\n",
              "        -0.26490647, -0.92113237, -0.03951327, -0.77798661, -0.27631722,\n",
              "        -0.77958446, -0.70501289,  1.2310418 ],\n",
              "       [ 0.41028503,  0.86189161, -0.86189161,  1.05226188,  0.27927481,\n",
              "        -0.26490647, -0.92113237, -1.84724524,  1.28536917, -0.27631722,\n",
              "         0.91879598, -0.70501289,  1.2310418 ],\n",
              "       [-0.98609278,  0.86189161, -0.86189161, -1.54461308, -0.87380087,\n",
              "        -0.26490647, -0.92113237, -0.13221747,  1.28536917,  1.4811127 ,\n",
              "        -0.77958446, -0.70501289, -0.55689986],\n",
              "       [ 0.19545768, -1.1602387 , -0.86189161,  3.87495205,  0.61403872,\n",
              "         3.77491722, -0.92113237, -0.827499  ,  1.28536917,  2.27994448,\n",
              "        -2.47796491,  1.39283034,  1.2310418 ],\n",
              "       [ 1.5918355 , -1.1602387 ,  2.17130386,  0.48772384, -0.29726303,\n",
              "        -0.26490647,  1.0856203 ,  0.00683883, -0.77798661,  0.52251456,\n",
              "         0.91879598,  1.39283034, -0.55689986],\n",
              "       [ 0.51769871,  0.86189161, -0.86189161,  0.37481624,  0.2978728 ,\n",
              "        -0.26490647, -0.92113237,  1.44375399, -0.77798661, -0.91538265,\n",
              "         0.91879598, -0.70501289, -0.55689986],\n",
              "       [ 0.94735343,  0.86189161, -0.86189161,  0.48772384, -1.26435877,\n",
              "        -0.26490647, -0.92113237, -0.31762588,  1.28536917,  2.27994448,\n",
              "         0.91879598,  1.39283034,  1.2310418 ],\n",
              "       [ 1.48442182,  0.86189161,  1.1602387 , -0.75425983,  0.40946077,\n",
              "        -0.26490647,  1.0856203 ,  0.00683883, -0.77798661, -0.11655087,\n",
              "         0.91879598,  0.34390872,  1.2310418 ],\n",
              "       [-0.98609278, -1.1602387 ,  0.14917355, -1.09298265, -1.76650463,\n",
              "        -0.26490647,  1.0856203 , -0.59573849, -0.77798661, -0.91538265,\n",
              "        -0.77958446, -0.70501289, -0.55689986],\n",
              "       [-0.98609278, -1.1602387 , -0.86189161,  0.37481624, -0.35305702,\n",
              "        -0.26490647, -0.92113237,  0.05319094,  1.28536917, -0.75561629,\n",
              "        -0.77958446, -0.70501289, -0.55689986],\n",
              "       [ 0.41028503, -1.1602387 ,  1.1602387 , -0.64135223,  1.58113445,\n",
              "        -0.26490647,  1.0856203 ,  0.98023297, -0.77798661, -0.91538265,\n",
              "         0.91879598, -0.70501289, -0.55689986],\n",
              "       [-0.44902439, -1.1602387 , -0.86189161, -1.20589026, -0.01829311,\n",
              "        -0.26490647, -0.92113237,  0.37765565, -0.77798661, -0.91538265,\n",
              "         0.91879598, -0.70501289, -0.55689986],\n",
              "       [ 0.41028503, -1.1602387 ,  2.17130386,  1.05226188,  0.52104874,\n",
              "         3.77491722, -0.92113237,  0.51671195, -0.77798661, -0.11655087,\n",
              "         0.91879598, -0.70501289, -0.55689986],\n",
              "       [-1.63057485,  0.86189161, -0.86189161, -0.75425983, -0.66922293,\n",
              "        -0.26490647,  1.0856203 , -0.50303429, -0.77798661,  0.04321549,\n",
              "        -0.77958446, -0.70501289,  1.2310418 ],\n",
              "       [-0.01936968,  0.86189161,  0.14917355, -1.31879787,  1.00459661,\n",
              "        -0.26490647,  1.0856203 ,  0.23859934, -0.77798661, -0.91538265,\n",
              "         0.91879598, -0.70501289,  1.2310418 ],\n",
              "       [-0.55643807,  0.86189161,  1.1602387 , -0.75425983, -1.97108257,\n",
              "        -0.26490647, -0.92113237, -1.15196371, -0.77798661, -0.27631722,\n",
              "         0.91879598,  2.44175195, -0.55689986],\n",
              "       [-0.23419704, -1.1602387 ,  1.1602387 ,  0.26190863, -1.09697681,\n",
              "        -0.26490647, -0.92113237,  0.84117667, -0.77798661, -0.83549947,\n",
              "        -0.77958446, -0.70501289, -0.55689986],\n",
              "       [-2.16764325, -1.1602387 ,  0.14917355, -0.75425983, -0.83660488,\n",
              "        -0.26490647,  1.0856203 ,  1.90727501, -0.77798661, -0.3562004 ,\n",
              "         0.91879598, -0.70501289, -0.55689986],\n",
              "       [-0.66385175,  0.86189161, -0.86189161, -0.41553701,  0.35366679,\n",
              "        -0.26490647, -0.92113237,  0.70212036, -0.77798661, -0.51596676,\n",
              "        -0.77958446, -0.70501289,  1.2310418 ],\n",
              "       [ 0.19545768,  0.86189161,  0.14917355, -0.64135223, -0.27866504,\n",
              "        -0.26490647,  1.0856203 ,  0.84117667, -0.77798661, -0.91538265,\n",
              "        -2.47796491, -0.70501289, -0.55689986],\n",
              "       [ 1.69924917,  0.86189161, -0.86189161, -0.07681419,  1.24637054,\n",
              "        -0.26490647, -0.92113237, -1.93994944, -0.77798661,  1.00181363,\n",
              "        -0.77958446,  2.44175195, -0.55689986],\n",
              "       [ 1.0547671 , -1.1602387 , -0.86189161,  2.74587598,  1.30216453,\n",
              "        -0.26490647,  1.0856203 ,  0.14589514,  1.28536917, -0.91538265,\n",
              "         0.91879598, -0.70501289, -0.55689986],\n",
              "       [-0.34161071, -1.1602387 , -0.86189161, -0.07681419,  0.93020463,\n",
              "        -0.26490647,  1.0856203 , -0.41033008,  1.28536917,  0.04321549,\n",
              "        -0.77958446, -0.70501289,  1.2310418 ],\n",
              "       [ 1.37700814,  0.86189161, -0.86189161, -1.77042829,  0.81861666,\n",
              "        -0.26490647, -0.92113237, -1.19831581,  1.28536917, -0.19643404,\n",
              "        -0.77958446,  1.39283034, -0.55689986]])"
            ]
          },
          "metadata": {},
          "execution_count": 19
        }
      ]
    },
    {
      "cell_type": "code",
      "source": [
        "Y_pred =clf.predict(X_test_s)\n",
        "Y_pred"
      ],
      "metadata": {
        "colab": {
          "base_uri": "https://localhost:8080/"
        },
        "id": "cm6tGPRF1zvs",
        "outputId": "ec9fc532-9dc4-45a4-8368-1d55ebc15dc6"
      },
      "execution_count": 20,
      "outputs": [
        {
          "output_type": "execute_result",
          "data": {
            "text/plain": [
              "array([1, 1, 1, 0, 1, 1, 1, 1, 1, 0, 0, 0, 1, 0, 0, 0, 1, 0, 1, 0, 1, 0,\n",
              "       0, 0, 1, 0, 1, 1, 0, 1, 1, 0, 0, 0, 1, 1, 0, 1, 0, 0, 0, 1, 1, 0,\n",
              "       1, 1, 1, 1, 1, 1, 1, 1, 1, 1, 1, 0, 1, 0, 0, 0, 1])"
            ]
          },
          "metadata": {},
          "execution_count": 20
        }
      ]
    },
    {
      "cell_type": "code",
      "source": [
        "from sklearn.metrics import accuracy_score, recall_score, precision_score, f1_score\n",
        "def print_metrics(Y_test,Y_pred):\n",
        "  acc= accuracy_score(Y_test,Y_pred)\n",
        "  re= recall_score(Y_test,Y_pred)\n",
        "  pr= precision_score(Y_test,Y_pred)             #  정확도는 이진분류랑 다중분류 계산하는게 같은데 나머진 다 다르다\n",
        "  f1= f1_score(Y_test,Y_pred)                    # 보통 average가 defalt 값이 이진분류라 바꿔줘야함\n",
        "  print('정확도:',acc)\n",
        "  print('재현율:',re)\n",
        "  print('정밀도:',pr)\n",
        "  print('f1스코어:',f1)\n",
        "print_metrics(Y_test,Y_pred)"
      ],
      "metadata": {
        "colab": {
          "base_uri": "https://localhost:8080/"
        },
        "id": "9gk6GnHs1ztT",
        "outputId": "9b1f98fc-a8b2-4af0-fb37-c340667a2ac2"
      },
      "execution_count": 21,
      "outputs": [
        {
          "output_type": "stream",
          "name": "stdout",
          "text": [
            "정확도: 0.8032786885245902\n",
            "재현율: 0.8484848484848485\n",
            "정밀도: 0.8\n",
            "f1스코어: 0.823529411764706\n"
          ]
        }
      ]
    },
    {
      "cell_type": "code",
      "source": [],
      "metadata": {
        "id": "hfSvTcEkIdcL"
      },
      "execution_count": 21,
      "outputs": []
    }
  ]
}